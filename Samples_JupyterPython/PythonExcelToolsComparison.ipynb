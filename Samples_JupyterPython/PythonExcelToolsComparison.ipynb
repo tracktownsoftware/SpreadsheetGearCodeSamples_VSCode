{
 "cells": [
  {
   "attachments": {},
   "cell_type": "markdown",
   "metadata": {},
   "source": [
    "# Python Excel tools performance comparison #"
   ]
  },
  {
   "attachments": {},
   "cell_type": "markdown",
   "metadata": {},
   "source": [
    "There are two tests:\n",
    "- Test 1: Values - A new workbook with worksheet cell values from testData[ROWS][COLS].\n",
    "- Test 2: Formatting - A new workbook with worksheet cell formatting from formatData[ROWS][COLS].\n",
    "\n",
    "The Jupyter Notebook magic command %%timeit runs each test 7 times and give a performance summary below the code cell.\n",
    "\n",
    "Python Excel tools tested:\n",
    "- SpreadsheetGear with pythonnet\n",
    "- PyExcelerate\n",
    "- XLSXWriter\n",
    "- OpenPyXL"
   ]
  },
  {
   "attachments": {},
   "cell_type": "markdown",
   "metadata": {},
   "source": [
    "# Install packages #"
   ]
  },
  {
   "cell_type": "code",
   "execution_count": null,
   "metadata": {
    "scrolled": true
   },
   "outputs": [],
   "source": [
    "%pip install pyexcelerate\n",
    "%pip install openpyxl\n",
    "%pip install xlsxwriter\n",
    "%pip install pythonnet"
   ]
  },
  {
   "attachments": {},
   "cell_type": "markdown",
   "metadata": {
    "dotnet_interactive": {
     "language": "csharp"
    },
    "polyglot_notebook": {
     "kernelName": "csharp"
    }
   },
   "source": [
    "# Initialize test data and output folder"
   ]
  },
  {
   "cell_type": "code",
   "execution_count": 2,
   "metadata": {},
   "outputs": [],
   "source": [
    "import os\n",
    "import random\n",
    "\n",
    "ROWS = 1000\n",
    "COLUMNS = 100\n",
    "BOLD = 1\n",
    "ITALIC = 2\n",
    "UNDERLINE = 4\n",
    "RED_BG = 8\n",
    "\n",
    "# global testData, formatData\n",
    "testData = []\n",
    "formatData = []\n",
    "for row in range(ROWS):\n",
    "    testDataRowCells = []\n",
    "    formatDataRowCells = []\n",
    "    for col in range(COLUMNS):\n",
    "        testDataRowCells.append(random.randint(1,100))\n",
    "        formatDataRowCells.append(random.randint(1, (1 << 4) - 1))\n",
    "    testData.append(testDataRowCells)\n",
    "    formatData.append(formatDataRowCells)\n",
    "\n",
    "# initialize output folder\n",
    "outputFolder =  os.path.join(os.getcwd(), \"output\")\n",
    "if not os.path.exists(outputFolder):\n",
    "    os.makedirs(outputFolder)"
   ]
  },
  {
   "attachments": {},
   "cell_type": "markdown",
   "metadata": {},
   "source": [
    "# The SpreadsheetGear Library #"
   ]
  },
  {
   "attachments": {},
   "cell_type": "markdown",
   "metadata": {},
   "source": [
    "Python doesn't support setting a Nuget package reference which is how the .NET6 SpreadsheetGear library is distributed. \n",
    "\n",
    "One workaround:\n",
    "1. Download the [SpreadsheetGear v9 Nuget package](https://www.nuget.org/packages/SpreadsheetGear/#versions-body-tab)\n",
    "2. Rename its extension to .zip and unzip it \n",
    "3. Copy its .NET6 SpreadsheetGear.dll and SpreadsheetGear.xml to the project workspace folder \n",
    "4. The code below can now find SpreadsheetGear.dll and add a reference to it"
   ]
  },
  {
   "attachments": {},
   "cell_type": "markdown",
   "metadata": {},
   "source": [
    "# SpreadsheetGear with pythonnet tests #"
   ]
  },
  {
   "cell_type": "code",
   "execution_count": 3,
   "metadata": {},
   "outputs": [
    {
     "name": "stdout",
     "output_type": "stream",
     "text": [
      "Added assembly reference: c:\\Users\\Chris Hamilton\\source\\repos\\SpreadsheetGearCodeSamples_VSCode\\Samples_JupyterPython\\SpreadsheetGear.dll\n"
     ]
    }
   ],
   "source": [
    "# Initialize SpreadsheetGear and pythonnet\n",
    "import os\n",
    "import pythonnet\n",
    "if (pythonnet._RUNTIME==None):\n",
    "    # Change the runtime_config path to your .NET SDK 6.0 dotnet.runtimeconfig.json file\n",
    "    pythonnet.load(\"coreclr\",runtime_config=\"C:\\\\Program Files\\\\dotnet\\\\sdk\\\\6.0.404\\\\dotnet.runtimeconfig.json\")\n",
    "    # import the pythonnet Common Language Runtime module\n",
    "    import clr\n",
    "    # import the pythonnet System namespace\n",
    "    import System\n",
    "\n",
    "    SpreadsheetGearAssemblyPath = os.path.join(os.getcwd(), \"SpreadsheetGear.dll\")\n",
    "    clr.AddReference(SpreadsheetGearAssemblyPath)\n",
    "    print(\"Added assembly reference: \" + SpreadsheetGearAssemblyPath)\n",
    "    import SpreadsheetGear\n",
    "\n",
    "    # SpreadsheetGear License\n",
    "    # SpreadsheetGear for .NET Standard:  Free use is limited to 1,000 rows x 100 columns x 10 worksheets x 3 workbooks. \n",
    "    # Visit https://www.spreadsheetgear.com/downloads/signedlicense.aspx for more information.\n",
    "    # SpreadsheetGear.Factory.SetSignedLicense(\"UNCOMMENT THIS LINE AND PUT YOUR SIGNED LICENSE HERE\")\n",
    "\n",
    "# Note: If you run into the SpreadsheetGear FREE use limition you can \"Restart Kernel\" for this Jupyter Notebook to reset it."
   ]
  },
  {
   "attachments": {},
   "cell_type": "markdown",
   "metadata": {},
   "source": [
    "### Test 1: Values - SpreadsheetGear with pythonnet ###"
   ]
  },
  {
   "cell_type": "code",
   "execution_count": 4,
   "metadata": {},
   "outputs": [
    {
     "name": "stdout",
     "output_type": "stream",
     "text": [
      "58.8 ms ± 9.42 ms per loop (mean ± std. dev. of 7 runs, 1 loop each)\n"
     ]
    }
   ],
   "source": [
    "%%timeit\n",
    "# Note: Remove or comment out %%timeit if you run into the SpreadsheetGear FREE use  \n",
    "# limitation of 1,000 rows x 100 columns x 10 worksheets x 3 workbooks.\n",
    "\n",
    "# Build .NET 2-dimensional object array that SpreadsheetGear uses for fast loading of values\n",
    "objectValues = System.Array.CreateInstance(System.Object, ROWS, COLUMNS)\n",
    "for row in range(ROWS):\n",
    "    for col in range(COLUMNS):\n",
    "        objectValues[row, col] = float(testData[row][col])\n",
    "\n",
    "workbook = SpreadsheetGear.Factory.GetWorkbook()\n",
    "worksheet = workbook.Worksheets[0]\n",
    "worksheet.Cells[0,0,ROWS-1,COLUMNS-1].Value = objectValues\n",
    "workbook.SaveAs(os.path.join(outputFolder,\"SpreadsheetGearValues.xlsx\"), SpreadsheetGear.FileFormat.OpenXMLWorkbook)"
   ]
  },
  {
   "attachments": {},
   "cell_type": "markdown",
   "metadata": {},
   "source": [
    "### Test 2: Formatting - SpreadsheetGear with pythonnet ###"
   ]
  },
  {
   "cell_type": "code",
   "execution_count": 5,
   "metadata": {},
   "outputs": [
    {
     "name": "stdout",
     "output_type": "stream",
     "text": [
      "878 ms ± 7.87 ms per loop (mean ± std. dev. of 7 runs, 1 loop each)\n"
     ]
    }
   ],
   "source": [
    "%%timeit\n",
    "# Note: Remove or comment out %%timeit if you run into the SpreadsheetGear FREE use  \n",
    "# limitation of 1,000 rows x 100 columns x 10 worksheets x 3 workbooks.\n",
    "\n",
    "workbook = SpreadsheetGear.Factory.GetWorkbook()\n",
    "worksheet = workbook.Worksheets[0]\n",
    "cells = worksheet.Cells\n",
    "for row in range(ROWS):\n",
    "    for col in range(COLUMNS):\n",
    "            cell = worksheet.Cells[row, col, row, col]\n",
    "            #cell.Value = float(formatData[row][col])\n",
    "            if ((formatData[row][col] & ITALIC) == ITALIC):\n",
    "                cell.Font.Italic = True\n",
    "            if ((formatData[row][col] & BOLD) == BOLD):\n",
    "                cell.Font.Bold = True\n",
    "            if ((formatData[row][col] & UNDERLINE) == UNDERLINE):\n",
    "                cell.Font.Underline = SpreadsheetGear.UnderlineStyle.Single\n",
    "            if ((formatData[row][col] & RED_BG) == RED_BG):\n",
    "                cell.Interior.Color = SpreadsheetGear.Colors.Red\n",
    "\n",
    "workbook.SaveAs(os.path.join(outputFolder,\"SpreadsheetGearFormats.xlsx\"), SpreadsheetGear.FileFormat.OpenXMLWorkbook)"
   ]
  },
  {
   "attachments": {},
   "cell_type": "markdown",
   "metadata": {
    "dotnet_interactive": {
     "language": "csharp"
    },
    "polyglot_notebook": {
     "kernelName": "csharp"
    }
   },
   "source": [
    "# PyExcelerate tests #"
   ]
  },
  {
   "cell_type": "code",
   "execution_count": 6,
   "metadata": {},
   "outputs": [],
   "source": [
    "import pyexcelerate"
   ]
  },
  {
   "attachments": {},
   "cell_type": "markdown",
   "metadata": {},
   "source": [
    "### Test 1: Values - PyExcelerate ###"
   ]
  },
  {
   "cell_type": "code",
   "execution_count": 7,
   "metadata": {
    "dotnet_interactive": {
     "language": "csharp"
    },
    "polyglot_notebook": {
     "kernelName": "csharp"
    }
   },
   "outputs": [
    {
     "name": "stdout",
     "output_type": "stream",
     "text": [
      "225 ms ± 1.71 ms per loop (mean ± std. dev. of 7 runs, 1 loop each)\n"
     ]
    }
   ],
   "source": [
    "%%timeit\n",
    "# Populate worksheet cells with values from testData[ROWS][COLS]\n",
    "wb = pyexcelerate.Workbook()\n",
    "wb.new_sheet(\"testData\", data=testData)\n",
    "wb.save(os.path.join(outputFolder,\"PyExcelerateValues.xlsx\"))"
   ]
  },
  {
   "attachments": {},
   "cell_type": "markdown",
   "metadata": {},
   "source": [
    "### Test 2: Formatting - PyExcelerate ###"
   ]
  },
  {
   "cell_type": "code",
   "execution_count": 8,
   "metadata": {
    "dotnet_interactive": {
     "language": "csharp"
    },
    "polyglot_notebook": {
     "kernelName": "csharp"
    }
   },
   "outputs": [
    {
     "name": "stdout",
     "output_type": "stream",
     "text": [
      "598 ms ± 2.74 ms per loop (mean ± std. dev. of 7 runs, 1 loop each)\n"
     ]
    }
   ],
   "source": [
    "%%timeit\n",
    "# Format worksheet cells with formatting from formatData[ROWS][COLS]\n",
    "wb = pyexcelerate.Workbook()\n",
    "ws = wb.new_sheet(\"formatting\")\n",
    "bold = pyexcelerate.Style(font=pyexcelerate.Font(bold=True))\n",
    "italic = pyexcelerate.Style(font=pyexcelerate.Font(italic=True))\n",
    "underline = pyexcelerate.Style(font=pyexcelerate.Font(underline=True))\n",
    "red = pyexcelerate.Style(fill=pyexcelerate.Fill(background=pyexcelerate.Color(255, 0, 0, 0)))\n",
    "for row in range(ROWS):\n",
    "    for col in range(COLUMNS):\n",
    "        ws.set_cell_value(row + 1, col + 1, 1)\n",
    "        style = pyexcelerate.Style()\n",
    "        if formatData[row][col] & BOLD:\n",
    "            style.font.bold = True\n",
    "        if formatData[row][col] & ITALIC:\n",
    "            style.font.italic = True\n",
    "        if formatData[row][col] & UNDERLINE:\n",
    "            style.font.underline = True\n",
    "        if formatData[row][col] & RED_BG:\n",
    "            style.fill.background = pyexcelerate.Color(255, 0, 0)\n",
    "        ws.set_cell_style(row + 1, col + 1, style)\n",
    "wb.save(os.path.join(outputFolder,\"PyExcelerateFormats.xlsx\"))\n"
   ]
  },
  {
   "cell_type": "markdown",
   "metadata": {
    "dotnet_interactive": {
     "language": "csharp"
    },
    "polyglot_notebook": {
     "kernelName": "csharp"
    }
   },
   "source": [
    "# XLSXWriter tests"
   ]
  },
  {
   "cell_type": "code",
   "execution_count": 9,
   "metadata": {},
   "outputs": [],
   "source": [
    "import xlsxwriter.workbook"
   ]
  },
  {
   "attachments": {},
   "cell_type": "markdown",
   "metadata": {},
   "source": [
    "### Test 1: Values - XLSXWriter ###"
   ]
  },
  {
   "cell_type": "code",
   "execution_count": 10,
   "metadata": {
    "dotnet_interactive": {
     "language": "csharp"
    },
    "polyglot_notebook": {
     "kernelName": "csharp"
    }
   },
   "outputs": [
    {
     "name": "stdout",
     "output_type": "stream",
     "text": [
      "217 ms ± 1.69 ms per loop (mean ± std. dev. of 7 runs, 1 loop each)\n"
     ]
    }
   ],
   "source": [
    "%%timeit\n",
    "# Populate worksheet cells with values from testData[ROWS][COLS]\n",
    "wb = xlsxwriter.workbook.Workbook(os.path.join(outputFolder,\"XLSXWriterValues.xlsx\"), {\"constant_memory\": True})\n",
    "ws = wb.add_worksheet()\n",
    "for row in range(ROWS):\n",
    "    for col in range(COLUMNS):\n",
    "        ws.write_number(row, col, 1)\n",
    "wb.close()"
   ]
  },
  {
   "attachments": {},
   "cell_type": "markdown",
   "metadata": {},
   "source": [
    "### Test 2: Formatting - XLSXWriter ###"
   ]
  },
  {
   "cell_type": "code",
   "execution_count": 11,
   "metadata": {
    "dotnet_interactive": {
     "language": "csharp"
    },
    "polyglot_notebook": {
     "kernelName": "csharp"
    }
   },
   "outputs": [
    {
     "name": "stdout",
     "output_type": "stream",
     "text": [
      "316 ms ± 7.07 ms per loop (mean ± std. dev. of 7 runs, 1 loop each)\n"
     ]
    }
   ],
   "source": [
    "%%timeit\n",
    "# Format worksheet cells with formatting from formatData[ROWS][COLS]\n",
    "wb = xlsxwriter.workbook.Workbook(os.path.join(outputFolder,\"XLSXWriterFormats.xlsx\"), {\"constant_memory\": True})\n",
    "ws = wb.add_worksheet()\n",
    "cell_formats = []\n",
    "for i in range(16):\n",
    "    cell_format = wb.add_format()\n",
    "    if i & BOLD:\n",
    "        cell_format.set_bold()\n",
    "    if i & ITALIC:\n",
    "        cell_format.set_italic()\n",
    "    if i & UNDERLINE:\n",
    "        cell_format.set_underline()\n",
    "    if i & RED_BG:\n",
    "        cell_format.set_bg_color(\"red\")\n",
    "    cell_formats.append(cell_format)\n",
    "\n",
    "for row in range(ROWS):\n",
    "    for col in range(COLUMNS):\n",
    "        ws.write_number(row, col, 1, cell_formats[formatData[row][col]])\n",
    "wb.close()"
   ]
  },
  {
   "cell_type": "markdown",
   "metadata": {
    "dotnet_interactive": {
     "language": "csharp"
    },
    "polyglot_notebook": {
     "kernelName": "csharp"
    }
   },
   "source": [
    "# OpenPyXL tests"
   ]
  },
  {
   "cell_type": "code",
   "execution_count": 12,
   "metadata": {},
   "outputs": [],
   "source": [
    "import openpyxl"
   ]
  },
  {
   "attachments": {},
   "cell_type": "markdown",
   "metadata": {},
   "source": [
    "### Test 1: Values - OpenPyXL ###"
   ]
  },
  {
   "cell_type": "code",
   "execution_count": 13,
   "metadata": {
    "dotnet_interactive": {
     "language": "csharp"
    },
    "polyglot_notebook": {
     "kernelName": "csharp"
    }
   },
   "outputs": [
    {
     "name": "stdout",
     "output_type": "stream",
     "text": [
      "439 ms ± 3.79 ms per loop (mean ± std. dev. of 7 runs, 1 loop each)\n"
     ]
    }
   ],
   "source": [
    "%%timeit\n",
    "# Populate worksheet cells with values from testData[ROWS][COLS]\n",
    "wb = openpyxl.workbook.Workbook(write_only=True)\n",
    "ws = wb.create_sheet()\n",
    "ws.title = \"Test 1\"\n",
    "for row in testData:\n",
    "    ws.append(row)\n",
    "wb.save(os.path.join(outputFolder,\"OpenPyXLValues.xlsx\"))"
   ]
  },
  {
   "attachments": {},
   "cell_type": "markdown",
   "metadata": {},
   "source": [
    "### Test 2: Formatting - OpenPyXL ###"
   ]
  },
  {
   "cell_type": "code",
   "execution_count": 14,
   "metadata": {
    "dotnet_interactive": {
     "language": "csharp"
    },
    "polyglot_notebook": {
     "kernelName": "csharp"
    }
   },
   "outputs": [
    {
     "name": "stdout",
     "output_type": "stream",
     "text": [
      "4.35 s ± 13.6 ms per loop (mean ± std. dev. of 7 runs, 1 loop each)\n"
     ]
    }
   ],
   "source": [
    "%%timeit\n",
    "# Format worksheet cells with formatting from formatData[ROWS][COLS]\n",
    "wb = openpyxl.workbook.Workbook()\n",
    "ws = wb.create_sheet()\n",
    "ws.title = \"Test 1\"\n",
    "for col_idx in range(COLUMNS):\n",
    "    col = openpyxl.utils.get_column_letter(col_idx + 1)\n",
    "    for row in range(ROWS):\n",
    "        ws[\"%s%s\" % (col, row + 1)].value = 1\n",
    "        if formatData[row][col_idx] & BOLD:\n",
    "            ws[\"%s%s\" % (col, row + 1)].font = openpyxl.styles.Font(bold=True)\n",
    "        if formatData[row][col_idx] & ITALIC:\n",
    "            ws[\"%s%s\" % (col, row + 1)].font = openpyxl.styles.Font(italic=True)\n",
    "        if formatData[row][col_idx] & UNDERLINE:\n",
    "            ws[\"%s%s\" % (col, row + 1)].font = openpyxl.styles.Font(\n",
    "                underline=\"single\"\n",
    "            )\n",
    "        if formatData[row][col_idx] & RED_BG:\n",
    "            ws[\"%s%s\" % (col, row + 1)].fill = openpyxl.styles.PatternFill(\n",
    "                fill_type=openpyxl.styles.fills.FILL_SOLID,\n",
    "                start_color=openpyxl.styles.Color(openpyxl.styles.colors.BLUE),\n",
    "                end_color=openpyxl.styles.Color(openpyxl.styles.colors.BLUE),\n",
    "            )\n",
    "        ws[\"%s%s\" % (col, row + 1)].value = 1\n",
    "wb.save(os.path.join(outputFolder,\"OpenPyXLFormats.xlsx\"))"
   ]
  }
 ],
 "metadata": {
  "kernelspec": {
   "display_name": "Python 3",
   "language": "python",
   "name": "python3"
  },
  "language_info": {
   "codemirror_mode": {
    "name": "ipython",
    "version": 3
   },
   "file_extension": ".py",
   "mimetype": "text/x-python",
   "name": "python",
   "nbconvert_exporter": "python",
   "pygments_lexer": "ipython3",
   "version": "3.11.1 (tags/v3.11.1:a7a450f, Dec  6 2022, 19:58:39) [MSC v.1934 64 bit (AMD64)]"
  },
  "polyglot_notebook": {
   "kernelInfo": {
    "defaultKernelName": "csharp",
    "items": [
     {
      "aliases": [
       "c#",
       "C#"
      ],
      "languageName": "C#",
      "name": "csharp"
     },
     {
      "aliases": [
       "f#",
       "F#"
      ],
      "languageName": "F#",
      "name": "fsharp"
     },
     {
      "aliases": [
       "frontend"
      ],
      "languageName": null,
      "name": "vscode"
     }
    ]
   }
  },
  "vscode": {
   "interpreter": {
    "hash": "85ab934d689e36a6962b5a54375db4fc7361dd215fb8fcf8088822d4b649ea26"
   }
  }
 },
 "nbformat": 4,
 "nbformat_minor": 2
}
