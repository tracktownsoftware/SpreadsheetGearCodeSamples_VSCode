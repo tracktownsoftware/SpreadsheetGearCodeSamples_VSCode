{
 "cells": [
  {
   "attachments": {},
   "cell_type": "markdown",
   "metadata": {},
   "source": [
    "# SpreadsheetGear in a Jupyter Notebook using Python #"
   ]
  },
  {
   "attachments": {},
   "cell_type": "markdown",
   "metadata": {},
   "source": [
    "*Note: The interactive features described in this Jupyter Notebook (.ipynb) require it to be opened in a Jupyter Notebook editor like Visual Studio Code.*"
   ]
  },
  {
   "attachments": {},
   "cell_type": "markdown",
   "metadata": {},
   "source": [
    "Running code in cells:\n",
    "- Each code cell has a run button on the left. You can run code cells in any order, but some cells have a dependency on another cell being run first. For example, you need to run the cell that installs the Spreadsheetgear Nuget package before you can use Spreadsheetgear in code.\n",
    "- You can also \"Run All\" code cells. Find this command at top of this page."
   ]
  },
  {
   "cell_type": "markdown",
   "metadata": {},
   "source": [
    "Other useful commands at the top of the page:\n",
    "- Click \"Restart\" to reset all session state for this Jupyter Notebook. This will reset, for example, session variables and installed Nuget packages.\n",
    "- Click \"Variables\" to see current session variable values in your notebook\n",
    "- Click \"Clear Outputs of all cells\" to clear all output"
   ]
  },
  {
   "attachments": {},
   "cell_type": "markdown",
   "metadata": {},
   "source": [
    "# Install pythonnet into your Python environment #"
   ]
  },
  {
   "attachments": {},
   "cell_type": "markdown",
   "metadata": {},
   "source": [
    "[pythonnet](https://pypi.org/project/pythonnet/) is a python package that allows Python code to use the .NET Common Language Runtime (CLR) and .NET libraries.\n",
    "\n",
    "*Run the code cell below if you need to install pythonnet into your Python environment.*"
   ]
  },
  {
   "cell_type": "code",
   "execution_count": null,
   "metadata": {},
   "outputs": [],
   "source": [
    "%pip install pythonnet"
   ]
  },
  {
   "attachments": {},
   "cell_type": "markdown",
   "metadata": {},
   "source": [
    "# The SpreadsheetGear library  #"
   ]
  },
  {
   "attachments": {},
   "cell_type": "markdown",
   "metadata": {},
   "source": [
    "Python doesn't support setting a Nuget package reference which is how the SpreadsheetGear .NET6 library is distributed.\n",
    "\n",
    "This repo contains a workaround suggested by a Microsoft software engineer. Repeat these steps if you want the latest SpreadsheetGear version.\n",
    "1.  Go to [www.nuget.org/packages/SpreadsheetGear](https://www.nuget.org/packages/SpreadsheetGear/#versions-body-tab)\n",
    "2.  Click on the latest SpreadsheetGear version. This sample code requires SpreadsheetGear version 9 or later (v9 is still in beta as I write this)\n",
    "3.  Find the \"Download package\" link and download the file\n",
    "4.  The file has a \".nupkg\" extension which you can rename to \".zip\".\n",
    "5.  Open the zip file and open the folder \"\\lib\\net6.0\".\n",
    "6.  Copy files SpreadsheetGear.dll and Spreadsheetgear.xml to your VSCode project folder."
   ]
  },
  {
   "attachments": {},
   "cell_type": "markdown",
   "metadata": {},
   "source": [
    "# Initialize pythonnet and SpreadsheetGear #"
   ]
  },
  {
   "attachments": {},
   "cell_type": "markdown",
   "metadata": {},
   "source": [
    "Before running the code cell below, modify the runtime_config path to match the location of your NET6 SDK dotnet.runtimeconfig.json file."
   ]
  },
  {
   "cell_type": "code",
   "execution_count": 2,
   "metadata": {},
   "outputs": [
    {
     "name": "stdout",
     "output_type": "stream",
     "text": [
      "Adding reference to this assembly... c:\\Users\\Chris Hamilton\\source\\repos\\SpreadsheetGearCodeSamples_VSCode\\Samples_JupyterPython\\SpreadsheetGear.dll\n"
     ]
    }
   ],
   "source": [
    "import pythonnet\n",
    "if (pythonnet._RUNTIME==None):\n",
    "    # initialize\n",
    "    pythonnet.load(\"coreclr\",runtime_config=\"C:\\\\Program Files\\\\dotnet\\\\sdk\\\\6.0.404\\\\dotnet.runtimeconfig.json\")\n",
    "    import clr\n",
    "    import os.path\n",
    "    SpreadsheetGearAssemblyPath = os.getcwd() + \"\\\\SpreadsheetGear.dll\"\n",
    "    print(\"Adding reference to this assembly... \" + SpreadsheetGearAssemblyPath)\n",
    "    clr.AddReference(SpreadsheetGearAssemblyPath)\n",
    "    import SpreadsheetGear"
   ]
  },
  {
   "attachments": {},
   "cell_type": "markdown",
   "metadata": {},
   "source": [
    "# SpreadsheetGear code sample to evaluate an Excel formula #"
   ]
  },
  {
   "cell_type": "code",
   "execution_count": 3,
   "metadata": {},
   "outputs": [],
   "source": [
    "inputFormula = \"TEXT(STDEV(1, 2, 3, 4), \\\"0.00\\\")\""
   ]
  },
  {
   "cell_type": "code",
   "execution_count": 4,
   "metadata": {},
   "outputs": [
    {
     "name": "stdout",
     "output_type": "stream",
     "text": [
      "Hello World! Result calculated from EvaluateValue = 1.29\n"
     ]
    }
   ],
   "source": [
    "# Create a new empty workbook and get the first sheet.\n",
    "workbook = SpreadsheetGear.Factory.GetWorkbook()\n",
    "worksheet = workbook.Worksheets[0]\n",
    "\n",
    "# Evaluate the input formula.\n",
    "result = worksheet.EvaluateValue(inputFormula)\n",
    "\n",
    "# Display the result to the user.\n",
    "print(\"Hello World! Result calculated from EvaluateValue = \" + result)"
   ]
  }
 ],
 "metadata": {
  "kernelspec": {
   "display_name": "Python 3",
   "language": "python",
   "name": "python3"
  },
  "language_info": {
   "codemirror_mode": {
    "name": "ipython",
    "version": 3
   },
   "file_extension": ".py",
   "mimetype": "text/x-python",
   "name": "python",
   "nbconvert_exporter": "python",
   "pygments_lexer": "ipython3",
   "version": "3.11.1 (tags/v3.11.1:a7a450f, Dec  6 2022, 19:58:39) [MSC v.1934 64 bit (AMD64)]"
  },
  "polyglot_notebook": {
   "kernelInfo": {
    "defaultKernelName": "csharp",
    "items": [
     {
      "aliases": [
       "c#",
       "C#"
      ],
      "languageName": "C#",
      "name": "csharp"
     },
     {
      "aliases": [
       "f#",
       "F#"
      ],
      "languageName": "F#",
      "name": "fsharp"
     },
     {
      "aliases": [
       "frontend"
      ],
      "languageName": null,
      "name": "vscode"
     }
    ]
   }
  },
  "vscode": {
   "interpreter": {
    "hash": "85ab934d689e36a6962b5a54375db4fc7361dd215fb8fcf8088822d4b649ea26"
   }
  }
 },
 "nbformat": 4,
 "nbformat_minor": 2
}
