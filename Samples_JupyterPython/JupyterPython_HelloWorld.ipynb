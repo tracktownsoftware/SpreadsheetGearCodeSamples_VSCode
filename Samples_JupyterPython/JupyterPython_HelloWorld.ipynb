{
 "cells": [
  {
   "attachments": {},
   "cell_type": "markdown",
   "metadata": {},
   "source": [
    "# SpreadsheetGear in a Jupyter Notebook using Python #"
   ]
  },
  {
   "attachments": {},
   "cell_type": "markdown",
   "metadata": {},
   "source": [
    "*Note: The interactive features described in this Jupyter Notebook (.ipynb) require it to be opened in a Jupyter Notebook editor like Visual Studio Code.*"
   ]
  },
  {
   "attachments": {},
   "cell_type": "markdown",
   "metadata": {},
   "source": [
    "Running code in cells:\n",
    "- Each code cell has a run button on the left. You can run code cells in any order, but some cells have a dependency on another cell being run first. For example, you need to run the cell that installs the Spreadsheetgear Nuget package before you can use Spreadsheetgear in code.\n",
    "- You can also \"Run All\" code cells. Find this command at top of this page."
   ]
  },
  {
   "cell_type": "markdown",
   "metadata": {},
   "source": [
    "Other useful commands at the top of the page:\n",
    "- Click \"Restart\" to reset all session state for this Jupyter Notebook. This will reset, for example, session variables and installed Nuget packages.\n",
    "- Click \"Variables\" to see current session variable values in your notebook\n",
    "- Click \"Clear Outputs of all cells\" to clear all output"
   ]
  },
  {
   "attachments": {},
   "cell_type": "markdown",
   "metadata": {},
   "source": [
    "# Install pythonnet into your Python environment #"
   ]
  },
  {
   "attachments": {},
   "cell_type": "markdown",
   "metadata": {},
   "source": [
    "[pythonnet](https://pypi.org/project/pythonnet/) is a python package that allows Python code to use the .NET Common Language Runtime (CLR) and .NET libraries.\n",
    "\n",
    "*Run the code cell below if you need to install pythonnet into your Python environment.*"
   ]
  },
  {
   "cell_type": "code",
   "execution_count": null,
   "metadata": {},
   "outputs": [],
   "source": [
    "%pip install pythonnet"
   ]
  },
  {
   "attachments": {},
   "cell_type": "markdown",
   "metadata": {},
   "source": [
    "# The SpreadsheetGear library  #"
   ]
  },
  {
   "attachments": {},
   "cell_type": "markdown",
   "metadata": {},
   "source": [
    "Python doesn't support setting a Nuget package reference which is how the .NET6 SpreadsheetGear library is distributed. \n",
    "\n",
    "My workaround: \n",
    "1. Download the [SpreadsheetGear v9 Nuget package](https://www.nuget.org/packages/SpreadsheetGear/#versions-body-tab)\n",
    "2. Rename its extension to .zip and unzip it \n",
    "3. Copy its .NET6 SpreadsheetGear.dll and SpreadsheetGear.xml to the project workspace folder\n",
    "4. The code below can now find SpreadsheetGear.dll and add a reference to it"
   ]
  },
  {
   "attachments": {},
   "cell_type": "markdown",
   "metadata": {},
   "source": [
    "# Initialize SpreadsheetGear and pythonnet #"
   ]
  },
  {
   "cell_type": "code",
   "execution_count": 2,
   "metadata": {},
   "outputs": [
    {
     "name": "stdout",
     "output_type": "stream",
     "text": [
      "Added assembly reference: c:\\Users\\Chris Hamilton\\source\\repos\\SpreadsheetGearCodeSamples_VSCode\\Samples_JupyterPython\\SpreadsheetGear.dll\n"
     ]
    }
   ],
   "source": [
    "# Initialize SpreadsheetGear and Pythonnet\n",
    "import os\n",
    "import pythonnet\n",
    "if (pythonnet._RUNTIME==None):\n",
    "    # Change the runtime_config path to your .NET SDK 6.0 dotnet.runtimeconfig.json file\n",
    "    pythonnet.load(\"coreclr\",runtime_config=\"C:\\\\Program Files\\\\dotnet\\\\sdk\\\\6.0.404\\\\dotnet.runtimeconfig.json\")\n",
    "    # import the pythonnet Common Language Runtime module\n",
    "    import clr\n",
    "    # import the pythonnet System namespace\n",
    "    import System\n",
    "\n",
    "    SpreadsheetGearAssemblyPath = os.path.join(os.getcwd(), \"SpreadsheetGear.dll\")\n",
    "    clr.AddReference(SpreadsheetGearAssemblyPath)\n",
    "    print(\"Added assembly reference: \" + SpreadsheetGearAssemblyPath)\n",
    "    import SpreadsheetGear\n",
    "\n",
    "    # SpreadsheetGear License\n",
    "    # SpreadsheetGear for .NET Standard:  Free use is limited to 1,000 rows x 100 columns x 10 worksheets x 3 workbooks. \n",
    "    # Visit https://www.spreadsheetgear.com/downloads/signedlicense.aspx for more information.\n",
    "    # SpreadsheetGear.Factory.SetSignedLicense(\"UNCOMMENT THIS LINE AND PUT YOUR SIGNED LICENSE HERE\")\n",
    "\n",
    "# Note: If you run into the SpreadsheetGear FREE use limition you can \"Restart Kernel\" for this Jupyter Notebook to reset it."
   ]
  },
  {
   "attachments": {},
   "cell_type": "markdown",
   "metadata": {},
   "source": [
    "# SpreadsheetGear code sample to evaluate an Excel formula #"
   ]
  },
  {
   "cell_type": "code",
   "execution_count": 3,
   "metadata": {},
   "outputs": [],
   "source": [
    "inputFormula = \"TEXT(STDEV(1, 2, 3, 4), \\\"0.00\\\")\""
   ]
  },
  {
   "cell_type": "code",
   "execution_count": 4,
   "metadata": {},
   "outputs": [
    {
     "name": "stdout",
     "output_type": "stream",
     "text": [
      "Hello World! Result calculated from EvaluateValue = 1.29\n"
     ]
    }
   ],
   "source": [
    "# Create a new empty workbook and get the first sheet.\n",
    "workbook = SpreadsheetGear.Factory.GetWorkbook()\n",
    "worksheet = workbook.Worksheets[0]\n",
    "\n",
    "# Evaluate the input formula.\n",
    "result = worksheet.EvaluateValue(inputFormula)\n",
    "\n",
    "# Display the result to the user.\n",
    "print(\"Hello World! Result calculated from EvaluateValue = \" + result)"
   ]
  }
 ],
 "metadata": {
  "kernelspec": {
   "display_name": "Python 3",
   "language": "python",
   "name": "python3"
  },
  "language_info": {
   "codemirror_mode": {
    "name": "ipython",
    "version": 3
   },
   "file_extension": ".py",
   "mimetype": "text/x-python",
   "name": "python",
   "nbconvert_exporter": "python",
   "pygments_lexer": "ipython3",
   "version": "3.11.1 (tags/v3.11.1:a7a450f, Dec  6 2022, 19:58:39) [MSC v.1934 64 bit (AMD64)]"
  },
  "polyglot_notebook": {
   "kernelInfo": {
    "defaultKernelName": "csharp",
    "items": [
     {
      "aliases": [
       "c#",
       "C#"
      ],
      "languageName": "C#",
      "name": "csharp"
     },
     {
      "aliases": [
       "f#",
       "F#"
      ],
      "languageName": "F#",
      "name": "fsharp"
     },
     {
      "aliases": [
       "frontend"
      ],
      "languageName": null,
      "name": "vscode"
     }
    ]
   }
  },
  "vscode": {
   "interpreter": {
    "hash": "85ab934d689e36a6962b5a54375db4fc7361dd215fb8fcf8088822d4b649ea26"
   }
  }
 },
 "nbformat": 4,
 "nbformat_minor": 2
}
