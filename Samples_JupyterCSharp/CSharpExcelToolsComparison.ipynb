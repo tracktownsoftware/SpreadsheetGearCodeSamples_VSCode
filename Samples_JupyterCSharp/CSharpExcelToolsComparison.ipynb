{
 "cells": [
  {
   "cell_type": "markdown",
   "metadata": {
    "dotnet_interactive": {
     "language": "csharp"
    },
    "polyglot_notebook": {
     "kernelName": "csharp"
    }
   },
   "source": [
    "# C# Excel tools performance comparison #"
   ]
  },
  {
   "attachments": {},
   "cell_type": "markdown",
   "metadata": {
    "dotnet_interactive": {
     "language": "csharp"
    },
    "polyglot_notebook": {
     "kernelName": "csharp"
    }
   },
   "source": [
    "There are two tests:\n",
    "- Test 1: Values - A new workbook with worksheet cell values from testData[ROWS, COLS].\n",
    "- Test 2: Formatting - A new workbook with worksheet cell formatting from formatData[ROWS, COLS].\n",
    "\n",
    "Notes: \n",
    "- Only SpreadsheetGear is tested in this notebook currently. Other .NET Excel tool products will be tested later.\n",
    "- The PythonExcelToolsComparison.ipynb in this repo contains tests for multiple products\n"
   ]
  },
  {
   "attachments": {},
   "cell_type": "markdown",
   "metadata": {
    "dotnet_interactive": {
     "language": "csharp"
    },
    "polyglot_notebook": {
     "kernelName": "csharp"
    }
   },
   "source": [
    "# Initialize the test data"
   ]
  },
  {
   "cell_type": "code",
   "execution_count": 1,
   "metadata": {
    "dotnet_interactive": {
     "language": "csharp"
    },
    "polyglot_notebook": {
     "kernelName": "csharp"
    },
    "vscode": {
     "languageId": "polyglot-notebook"
    }
   },
   "outputs": [
    {
     "name": "stdout",
     "output_type": "stream",
     "text": [
      "Output folder path: c:\\Users\\Chris Hamilton\\source\\repos\\SpreadsheetGearCodeSamples_VSCode\\Samples_JupyterCSharp\\output\r\n"
     ]
    }
   ],
   "source": [
    "using System.IO;\n",
    "\n",
    "const int ROWS = 1000;\n",
    "const int COLUMNS = 100;\n",
    "const int BOLD = 1;\n",
    "const int ITALIC = 2;\n",
    "const int UNDERLINE = 4;\n",
    "const int RED_BG = 8;\n",
    "\n",
    "object[,] testData = new object[ROWS, COLUMNS]; \n",
    "int[,] formatData = new int[ROWS, COLUMNS];\n",
    "\n",
    "var random = new Random();\n",
    "for (int row = 0; row < ROWS; row++)\n",
    "{\n",
    "    for (int col = 0; col < COLUMNS; col++)\n",
    "    {\n",
    "        testData[row, col] = 1;\n",
    "        formatData[row, col] = random.Next(0, 15);\n",
    "    }\n",
    "}\n",
    "\n",
    "// Test results will be written to this output directory\n",
    "string outputPath = Directory.GetCurrentDirectory();\n",
    "outputPath = Path.Combine(outputPath,\"output\");\n",
    "Console.WriteLine(\"Output folder path: \" + outputPath);\n",
    "Directory.CreateDirectory(outputPath);"
   ]
  },
  {
   "attachments": {},
   "cell_type": "markdown",
   "metadata": {
    "dotnet_interactive": {
     "language": "csharp"
    },
    "polyglot_notebook": {
     "kernelName": "csharp"
    }
   },
   "source": [
    "# SpreadsheetGear tests"
   ]
  },
  {
   "cell_type": "code",
   "execution_count": 2,
   "metadata": {
    "dotnet_interactive": {
     "language": "csharp"
    },
    "polyglot_notebook": {
     "kernelName": "csharp"
    },
    "vscode": {
     "languageId": "polyglot-notebook"
    }
   },
   "outputs": [
    {
     "data": {
      "text/html": [
       "<div><div></div><div></div><div><strong>Installed Packages</strong><ul><li><span>SpreadsheetGear, 9.1.19-beta</span></li></ul></div></div>"
      ]
     },
     "metadata": {},
     "output_type": "display_data"
    }
   ],
   "source": [
    "// Run this cell once to import required packages\n",
    "#r \"nuget:SpreadsheetGear, 9.*-*\""
   ]
  },
  {
   "cell_type": "code",
   "execution_count": 3,
   "metadata": {
    "dotnet_interactive": {
     "language": "csharp"
    },
    "polyglot_notebook": {
     "kernelName": "csharp"
    },
    "vscode": {
     "languageId": "polyglot-notebook"
    }
   },
   "outputs": [],
   "source": [
    "using SpreadsheetGear;\n",
    "using System.IO;\n",
    "\n",
    "// SpreadsheetGear License\n",
    "// SpreadsheetGear for .NET Standard:  Free use is limited to 1,000 rows x 100 columns x 10 worksheets x 3 workbooks. \n",
    "// Visit https://www.spreadsheetgear.com/downloads/signedlicense.aspx for more information.\n",
    "// SpreadsheetGear.Factory.SetSignedLicense(\"UNCOMMENT THIS LINE AND PUT YOUR SIGNED LICENSE HERE\");\n",
    "\n",
    "// Note: If you run into the SpreadsheetGear FREE use limition you can \"Restart Kernel\" for this Jupyter Notebook to reset it."
   ]
  },
  {
   "attachments": {},
   "cell_type": "markdown",
   "metadata": {
    "dotnet_interactive": {
     "language": "csharp"
    },
    "polyglot_notebook": {
     "kernelName": "csharp"
    }
   },
   "source": [
    "### Test 1: Values - SpreadsheetGear ###"
   ]
  },
  {
   "cell_type": "code",
   "execution_count": 4,
   "metadata": {
    "dotnet_interactive": {
     "language": "csharp"
    },
    "polyglot_notebook": {
     "kernelName": "csharp"
    },
    "vscode": {
     "languageId": "polyglot-notebook"
    }
   },
   "outputs": [
    {
     "name": "stdout",
     "output_type": "stream",
     "text": [
      "Average time: 34 milliseconds\r\n"
     ]
    }
   ],
   "source": [
    "// Populate worksheet cells with values from testData[ROWS][COLS]\n",
    "var watch = System.Diagnostics.Stopwatch.StartNew();\n",
    "\n",
    "// Note: Change LOOPNUMBER to 1 if you run into the SpreadsheetGear FREE use  \n",
    "//       limitation of 1,000 rows x 100 columns x 10 worksheets x 3 workbooks\n",
    "const int LOOPNUMBER = 7;\n",
    "\n",
    "// do LOOPNUMBER times and report average time\n",
    "for (int i = 0; i < LOOPNUMBER; i++)\n",
    "{\n",
    "    SpreadsheetGear.IWorkbook workbook = SpreadsheetGear.Factory.GetWorkbook();\n",
    "    SpreadsheetGear.IWorksheet worksheet = workbook.Worksheets[0];\n",
    "\n",
    "    SpreadsheetGear.IRange cells = worksheet.Cells;\n",
    "    SpreadsheetGear.IRange range = cells[0,0,ROWS - 1,COLUMNS - 1];\n",
    "    range.Value = testData;\n",
    "    workbook.SaveAs(Path.Combine(outputPath,\"SpreadsheetGearValues.xlsx\"),SpreadsheetGear.FileFormat.OpenXMLWorkbook);\n",
    "}\n",
    "\n",
    "watch.Stop();\n",
    "var elapsedMs = watch.ElapsedMilliseconds;\n",
    "Console.WriteLine(\"Average time: \" + elapsedMs/LOOPNUMBER +  \" milliseconds\");"
   ]
  },
  {
   "attachments": {},
   "cell_type": "markdown",
   "metadata": {
    "dotnet_interactive": {
     "language": "csharp"
    },
    "polyglot_notebook": {
     "kernelName": "csharp"
    }
   },
   "source": [
    "### Test 2: Formatting - SpreadsheetGear ###"
   ]
  },
  {
   "cell_type": "code",
   "execution_count": 5,
   "metadata": {
    "dotnet_interactive": {
     "language": "csharp"
    },
    "polyglot_notebook": {
     "kernelName": "csharp"
    },
    "vscode": {
     "languageId": "polyglot-notebook"
    }
   },
   "outputs": [
    {
     "name": "stdout",
     "output_type": "stream",
     "text": [
      "Average time: 159 milliseconds\r\n"
     ]
    }
   ],
   "source": [
    "// Populate worksheet cells with values from testData[ROWS][COLS]\n",
    "var watch = System.Diagnostics.Stopwatch.StartNew();\n",
    "\n",
    "// Note: Change LOOPNUMBER to 1 if you run into the SpreadsheetGear FREE use  \n",
    "//       limitation of 1,000 rows x 100 columns x 10 worksheets x 3 workbooks\n",
    "const int LOOPNUMBER = 7;\n",
    "\n",
    "// do LOOPNUMBER times and report average time\n",
    "for (int i = 0; i < LOOPNUMBER; i++)\n",
    "{\n",
    "    SpreadsheetGear.IWorkbook workbook = SpreadsheetGear.Factory.GetWorkbook();\n",
    "    SpreadsheetGear.IWorksheet worksheet = workbook.Worksheets[0];\n",
    "    SpreadsheetGear.IRange cells = worksheet.Cells;\n",
    "    for (int row = 0; row < ROWS; row++)\n",
    "    {\n",
    "        for (int col = 0; col < COLUMNS; col++)\n",
    "        {\n",
    "            SpreadsheetGear.IRange cell = cells[row, col];\n",
    "            cell.Value = testData[row, col];\n",
    "            int formatDataValue = formatData[row, col];\n",
    "            if ((formatDataValue & ITALIC) == ITALIC)\n",
    "               cell.Font.Italic = true;\n",
    "            if ((formatDataValue & BOLD) == BOLD)\n",
    "                cell.Font.Bold = true;\n",
    "            if ((formatDataValue & UNDERLINE) == UNDERLINE)\n",
    "                cell.Font.Underline = SpreadsheetGear.UnderlineStyle.Single;\n",
    "            if ((formatDataValue & RED_BG) == RED_BG)\n",
    "                cell.Interior.Color = SpreadsheetGear.Colors.Red;\n",
    "        }\n",
    "    }\n",
    "    workbook.SaveAs(Path.Combine(outputPath,\"SpreadsheetGearFormats.xlsx\"),SpreadsheetGear.FileFormat.OpenXMLWorkbook);\n",
    "}\n",
    "\n",
    "watch.Stop();\n",
    "var elapsedMs = watch.ElapsedMilliseconds/LOOPNUMBER;\n",
    "Console.WriteLine(\"Average time: \" + elapsedMs + \" milliseconds\");\n"
   ]
  }
 ],
 "metadata": {
  "kernelspec": {
   "display_name": ".NET (C#)",
   "language": "C#",
   "name": ".net-csharp"
  },
  "polyglot_notebook": {
   "kernelInfo": {
    "defaultKernelName": "csharp",
    "items": [
     {
      "aliases": [
       "c#",
       "C#"
      ],
      "languageName": "C#",
      "name": "csharp"
     },
     {
      "aliases": [],
      "name": ".NET"
     },
     {
      "aliases": [
       "f#",
       "F#"
      ],
      "languageName": "F#",
      "name": "fsharp"
     },
     {
      "aliases": [],
      "languageName": "HTML",
      "name": "html"
     },
     {
      "aliases": [
       "js"
      ],
      "languageName": "JavaScript",
      "name": "javascript"
     },
     {
      "aliases": [],
      "languageName": "KQL",
      "name": "kql"
     },
     {
      "aliases": [],
      "languageName": "Mermaid",
      "name": "mermaid"
     },
     {
      "aliases": [
       "powershell"
      ],
      "languageName": "PowerShell",
      "name": "pwsh"
     },
     {
      "aliases": [],
      "languageName": "SQL",
      "name": "sql"
     },
     {
      "aliases": [],
      "name": "value"
     },
     {
      "aliases": [
       "frontend"
      ],
      "languageName": null,
      "name": "vscode"
     },
     {
      "aliases": [],
      "name": "webview"
     }
    ]
   }
  }
 },
 "nbformat": 4,
 "nbformat_minor": 2
}
