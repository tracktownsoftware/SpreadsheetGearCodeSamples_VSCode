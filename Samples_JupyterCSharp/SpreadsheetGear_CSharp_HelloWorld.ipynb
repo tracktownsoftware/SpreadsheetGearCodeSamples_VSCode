{
 "cells": [
  {
   "attachments": {},
   "cell_type": "markdown",
   "metadata": {
    "dotnet_interactive": {
     "language": "csharp"
    },
    "polyglot_notebook": {
     "kernelName": "csharp"
    }
   },
   "source": [
    "# SpreadsheetGear in a Jupyter Notebook using C# #"
   ]
  },
  {
   "attachments": {},
   "cell_type": "markdown",
   "metadata": {
    "dotnet_interactive": {
     "language": "csharp"
    },
    "polyglot_notebook": {
     "kernelName": "csharp"
    }
   },
   "source": [
    "*Note: The interactive features descibed below require this to be open in a Jupyter Notebook (.ipynb) editor like Visual Studio Code.*"
   ]
  },
  {
   "attachments": {},
   "cell_type": "markdown",
   "metadata": {
    "dotnet_interactive": {
     "language": "csharp"
    },
    "polyglot_notebook": {
     "kernelName": "csharp"
    }
   },
   "source": [
    "Running code in cells:\n",
    "- Each cell has a run button on the left. You can run code cells in any order, but some cells have a dependency on another cell being run first. For example, you need to run the cell that installs the Spreadsheetgear Nuget package before you can use Spreadsheetgear in code.\n",
    "- You can also \"Run All\" code cells. Find this command at top of this page."
   ]
  },
  {
   "attachments": {},
   "cell_type": "markdown",
   "metadata": {
    "dotnet_interactive": {
     "language": "csharp"
    },
    "polyglot_notebook": {
     "kernelName": "csharp"
    }
   },
   "source": [
    "Other useful commands at the top of the page:\n",
    "- Click \"Restart\" to reset all session state for this Jupyter Notebook. This will reset, for example, session variables and installed Nuget packages.\n",
    "- Click \"Variables\" to see current session variable values in your notebook\n",
    "- Click \"Clear Outputs of all cells\" to clear all output"
   ]
  },
  {
   "attachments": {},
   "cell_type": "markdown",
   "metadata": {
    "dotnet_interactive": {
     "language": "csharp"
    },
    "polyglot_notebook": {
     "kernelName": "csharp"
    }
   },
   "source": [
    "# Install the SpreadsheetGear Nuget package #"
   ]
  },
  {
   "attachments": {},
   "cell_type": "markdown",
   "metadata": {
    "dotnet_interactive": {
     "language": "csharp"
    },
    "polyglot_notebook": {
     "kernelName": "csharp"
    }
   },
   "source": [
    "For information about the Nuget package command below: [Working with NuGet packages](https://github.com/dotnet/interactive/blob/main/docs/nuget-overview.md)"
   ]
  },
  {
   "cell_type": "code",
   "execution_count": 1,
   "metadata": {
    "dotnet_interactive": {
     "language": "csharp"
    },
    "polyglot_notebook": {
     "kernelName": "csharp"
    },
    "vscode": {
     "languageId": "polyglot-notebook"
    }
   },
   "outputs": [
    {
     "data": {
      "text/html": [
       "<div><div></div><div></div><div><strong>Installed Packages</strong><ul><li><span>SpreadsheetGear, 9.1.19-beta</span></li></ul></div></div>"
      ]
     },
     "metadata": {},
     "output_type": "display_data"
    }
   ],
   "source": [
    "#r \"nuget:SpreadsheetGear, 9.*-*\""
   ]
  },
  {
   "attachments": {},
   "cell_type": "markdown",
   "metadata": {
    "dotnet_interactive": {
     "language": "csharp"
    },
    "polyglot_notebook": {
     "kernelName": "csharp"
    }
   },
   "source": [
    "# SpreadsheetGear code sample to evaluate an Excel formula #"
   ]
  },
  {
   "cell_type": "code",
   "execution_count": 2,
   "metadata": {
    "dotnet_interactive": {
     "language": "csharp"
    },
    "polyglot_notebook": {
     "kernelName": "csharp"
    },
    "vscode": {
     "languageId": "polyglot-notebook"
    }
   },
   "outputs": [],
   "source": [
    "using SpreadsheetGear;"
   ]
  },
  {
   "cell_type": "code",
   "execution_count": 3,
   "metadata": {
    "dotnet_interactive": {
     "language": "csharp"
    },
    "polyglot_notebook": {
     "kernelName": "csharp"
    },
    "vscode": {
     "languageId": "polyglot-notebook"
    }
   },
   "outputs": [],
   "source": [
    "var inputFormula = \"TEXT(STDEV(1, 2, 3, 4), \\\"0.00\\\")\";"
   ]
  },
  {
   "cell_type": "code",
   "execution_count": 4,
   "metadata": {
    "dotnet_interactive": {
     "language": "csharp"
    },
    "polyglot_notebook": {
     "kernelName": "csharp"
    },
    "vscode": {
     "languageId": "polyglot-notebook"
    }
   },
   "outputs": [
    {
     "name": "stdout",
     "output_type": "stream",
     "text": [
      "Hello World! Result calculated from EvaluateValue = 1.29\r\n"
     ]
    }
   ],
   "source": [
    "// Create a new empty workbook and get the first sheet.\n",
    "SpreadsheetGear.IWorkbook workbook =\n",
    "    SpreadsheetGear.Factory.GetWorkbook();\n",
    "\n",
    "SpreadsheetGear.IWorksheet worksheet = workbook.Worksheets[0];\n",
    "\n",
    "// Evaluate the input formula.\n",
    "object result = worksheet.EvaluateValue(inputFormula); // ****** I'm using inputFormula from Jupyter cell 3 above ******\n",
    "\n",
    "// Display the result to the user.\n",
    "string displayValue;\n",
    "if (result == null)\n",
    "    displayValue = \"Invalid Formula!\";\n",
    "else if (result is SpreadsheetGear.ValueError)\n",
    "{\n",
    "    SpreadsheetGear.ValueError valueError = \n",
    "        (SpreadsheetGear.ValueError)result;\n",
    "            displayValue = \n",
    "                \"Value Error: #\" + valueError.ToString().ToUpper() + \"!\";\n",
    "}\n",
    "else\n",
    "    displayValue = result.ToString();\n",
    "\n",
    "Console.WriteLine(\"Hello World! Result calculated from EvaluateValue = \" + displayValue);"
   ]
  }
 ],
 "metadata": {
  "kernelspec": {
   "display_name": ".NET (C#)",
   "language": "C#",
   "name": ".net-csharp"
  },
  "polyglot_notebook": {
   "kernelInfo": {
    "defaultKernelName": "csharp",
    "items": [
     {
      "aliases": [
       "c#",
       "C#"
      ],
      "languageName": "C#",
      "name": "csharp"
     },
     {
      "aliases": [],
      "languageName": null,
      "name": ".NET"
     },
     {
      "aliases": [
       "f#",
       "F#"
      ],
      "languageName": "F#",
      "name": "fsharp"
     },
     {
      "aliases": [],
      "languageName": "HTML",
      "name": "html"
     },
     {
      "aliases": [
       "js"
      ],
      "languageName": "JavaScript",
      "name": "javascript"
     },
     {
      "aliases": [],
      "languageName": "KQL",
      "name": "kql"
     },
     {
      "aliases": [],
      "languageName": "Mermaid",
      "name": "mermaid"
     },
     {
      "aliases": [
       "powershell"
      ],
      "languageName": "PowerShell",
      "name": "pwsh"
     },
     {
      "aliases": [],
      "languageName": "SQL",
      "name": "sql"
     },
     {
      "aliases": [],
      "languageName": null,
      "name": "value"
     },
     {
      "aliases": [
       "frontend"
      ],
      "languageName": null,
      "name": "vscode"
     },
     {
      "aliases": [],
      "name": "webview"
     }
    ]
   }
  }
 },
 "nbformat": 4,
 "nbformat_minor": 2
}
