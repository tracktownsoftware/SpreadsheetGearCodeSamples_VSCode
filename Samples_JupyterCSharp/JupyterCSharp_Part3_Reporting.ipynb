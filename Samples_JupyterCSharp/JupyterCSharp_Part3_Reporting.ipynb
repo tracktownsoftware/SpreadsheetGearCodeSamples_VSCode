{
 "cells": [
  {
   "cell_type": "code",
   "execution_count": null,
   "metadata": {},
   "outputs": [],
   "source": []
  }
 ],
 "metadata": {
  "kernelspec": {
   "display_name": "Python 3",
   "language": "python",
   "name": "python3"
  },
  "language_info": {
   "name": "python",
   "version": "3.11.1 (tags/v3.11.1:a7a450f, Dec  6 2022, 19:58:39) [MSC v.1934 64 bit (AMD64)]"
  },
  "orig_nbformat": 4,
  "vscode": {
   "interpreter": {
    "hash": "85ab934d689e36a6962b5a54375db4fc7361dd215fb8fcf8088822d4b649ea26"
   }
  }
 },
 "nbformat": 4,
 "nbformat_minor": 2
}
